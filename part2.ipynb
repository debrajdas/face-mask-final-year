{
 "cells": [
  {
   "cell_type": "code",
   "execution_count": 1,
   "metadata": {},
   "outputs": [],
   "source": [
    "import numpy as np\n",
    "\n",
    "data=np.load('data.npy')\n",
    "target=np.load('target.npy')\n",
    "\n",
    "#loading the save numpy arrays in the previous code"
   ]
  },
  {
   "cell_type": "code",
   "execution_count": 2,
   "metadata": {},
   "outputs": [
    {
     "name": "stderr",
     "output_type": "stream",
     "text": [
      "Using TensorFlow backend.\n"
     ]
    }
   ],
   "source": [
    "from keras.models import Sequential #importing sequential model\n",
    "from keras.layers import Dense,Activation,Flatten,Dropout,Conv2D,MaxPooling2D\n",
    "from keras.callbacks import ModelCheckpoint\n",
    "\n",
    "model=Sequential()\n",
    "\n",
    "model.add(Conv2D(200,(3,3),input_shape=data.shape[1:]))\n",
    "#activation layer\n",
    "model.add(Activation('relu'))\n",
    "model.add(MaxPooling2D(pool_size=(2,2)))\n",
    "#The first CNN layer followed by Relu and MaxPooling layers\n",
    "\n",
    "model.add(Conv2D(100,(3,3)))\n",
    "#activation layer\n",
    "model.add(Activation('relu'))\n",
    "model.add(MaxPooling2D(pool_size=(2,2)))\n",
    "#The second convolution layer followed by Relu and MaxPooling layers\n",
    "\n",
    "model.add(Flatten())\n",
    "model.add(Dropout(0.5))\n",
    "#Flatten layer to stack the output convolutions from second convolution layer\n",
    "model.add(Dense(50,activation='relu'))\n",
    "#Dense layer of 50 neurons\n",
    "model.add(Dense(2,activation='softmax'))\n",
    "#The Final layer with two outputs for two categories\n",
    "\n",
    "model.compile(loss='categorical_crossentropy',optimizer='adam',metrics=['accuracy'])"
   ]
  },
  {
   "cell_type": "code",
   "execution_count": 3,
   "metadata": {},
   "outputs": [],
   "source": [
    "from sklearn.model_selection import train_test_split\n",
    "\n",
    "train_data,test_data,train_target,test_target=train_test_split(data,target,test_size=0.1)"
   ]
  },
  {
   "cell_type": "code",
   "execution_count": 4,
   "metadata": {},
   "outputs": [
    {
     "name": "stdout",
     "output_type": "stream",
     "text": [
      "Train on 990 samples, validate on 248 samples\n",
      "Epoch 1/20\n",
      "990/990 [==============================] - 36s 36ms/step - loss: 0.7396 - accuracy: 0.5444 - val_loss: 0.8916 - val_accuracy: 0.4234\n",
      "Epoch 2/20\n",
      "990/990 [==============================] - 34s 34ms/step - loss: 0.5462 - accuracy: 0.7182 - val_loss: 0.5214 - val_accuracy: 0.7056\n",
      "Epoch 3/20\n",
      "990/990 [==============================] - 35s 35ms/step - loss: 0.3591 - accuracy: 0.8394 - val_loss: 0.3176 - val_accuracy: 0.8669\n",
      "Epoch 4/20\n",
      "990/990 [==============================] - 35s 35ms/step - loss: 0.2336 - accuracy: 0.8990 - val_loss: 0.2424 - val_accuracy: 0.9274\n",
      "Epoch 5/20\n",
      "990/990 [==============================] - 35s 35ms/step - loss: 0.1937 - accuracy: 0.9273 - val_loss: 0.1877 - val_accuracy: 0.9355\n",
      "Epoch 6/20\n",
      "990/990 [==============================] - 33s 33ms/step - loss: 0.1425 - accuracy: 0.9485 - val_loss: 0.1823 - val_accuracy: 0.9355\n",
      "Epoch 7/20\n",
      "990/990 [==============================] - 33s 33ms/step - loss: 0.1010 - accuracy: 0.9677 - val_loss: 0.1979 - val_accuracy: 0.9355\n",
      "Epoch 8/20\n",
      "990/990 [==============================] - 33s 33ms/step - loss: 0.1164 - accuracy: 0.9485 - val_loss: 0.2119 - val_accuracy: 0.9194\n",
      "Epoch 9/20\n",
      "990/990 [==============================] - 32s 33ms/step - loss: 0.0686 - accuracy: 0.9747 - val_loss: 0.2266 - val_accuracy: 0.9234\n",
      "Epoch 10/20\n",
      "990/990 [==============================] - 33s 33ms/step - loss: 0.0483 - accuracy: 0.9778 - val_loss: 0.1919 - val_accuracy: 0.9395\n",
      "Epoch 11/20\n",
      "990/990 [==============================] - 33s 33ms/step - loss: 0.0485 - accuracy: 0.9818 - val_loss: 0.2477 - val_accuracy: 0.9194\n",
      "Epoch 12/20\n",
      "990/990 [==============================] - 33s 33ms/step - loss: 0.0355 - accuracy: 0.9879 - val_loss: 0.1959 - val_accuracy: 0.9516\n",
      "Epoch 13/20\n",
      "990/990 [==============================] - 33s 33ms/step - loss: 0.0413 - accuracy: 0.9879 - val_loss: 0.1773 - val_accuracy: 0.9476\n",
      "Epoch 14/20\n",
      "990/990 [==============================] - 33s 33ms/step - loss: 0.0531 - accuracy: 0.9788 - val_loss: 0.2935 - val_accuracy: 0.9234\n",
      "Epoch 15/20\n",
      "990/990 [==============================] - 33s 33ms/step - loss: 0.0426 - accuracy: 0.9838 - val_loss: 0.1592 - val_accuracy: 0.9435\n",
      "Epoch 16/20\n",
      "990/990 [==============================] - 33s 33ms/step - loss: 0.0484 - accuracy: 0.9798 - val_loss: 0.2186 - val_accuracy: 0.9194\n",
      "Epoch 17/20\n",
      "990/990 [==============================] - 33s 33ms/step - loss: 0.0296 - accuracy: 0.9889 - val_loss: 0.2015 - val_accuracy: 0.9395\n",
      "Epoch 18/20\n",
      "990/990 [==============================] - 33s 33ms/step - loss: 0.0289 - accuracy: 0.9939 - val_loss: 0.2209 - val_accuracy: 0.9395\n",
      "Epoch 19/20\n",
      "990/990 [==============================] - 34s 35ms/step - loss: 0.0239 - accuracy: 0.9889 - val_loss: 0.3470 - val_accuracy: 0.9153\n",
      "Epoch 20/20\n",
      "990/990 [==============================] - 33s 33ms/step - loss: 0.0229 - accuracy: 0.9919 - val_loss: 0.1684 - val_accuracy: 0.9556\n"
     ]
    }
   ],
   "source": [
    "history = model.fit(train_data, train_target, epochs = 20, validation_split = 0.2)"
   ]
  },
  {
   "cell_type": "code",
   "execution_count": 5,
   "metadata": {},
   "outputs": [
    {
     "data": {
      "image/png": "[encoded data removed]",
      "text/plain": [
       "<Figure size 432x288 with 1 Axes>"
      ]
     },
     "metadata": {
      "needs_background": "light"
     },
     "output_type": "display_data"
    }
   ],
   "source": [
    "from matplotlib import pyplot as plt \n",
    "#graph for traing and testing loss\n",
    "plt.plot(history.history['loss'],'r',label='training loss')\n",
    "plt.plot(history.history['val_loss'],label='validation loss')\n",
    "plt.xlabel('no of epochs')\n",
    "plt.ylabel('loss')\n",
    "plt.legend()\n",
    "plt.show()"
   ]
  },
  {
   "cell_type": "code",
   "execution_count": 6,
   "metadata": {},
   "outputs": [
    {
     "data": {
      "image/png": "[encoded data removed]",
      "text/plain": [
       "<Figure size 432x288 with 1 Axes>"
      ]
     },
     "metadata": {
      "needs_background": "light"
     },
     "output_type": "display_data"
    }
   ],
   "source": [
    "#graph for training and testing accuracy\n",
    "plt.plot(history.history['accuracy'],'r',label='training accuracy')\n",
    "plt.plot(history.history['val_accuracy'],label='validation accuracy')\n",
    "plt.xlabel('no of epochs')\n",
    "plt.ylabel('accuracy')\n",
    "plt.legend()\n",
    "plt.show()"
   ]
  },
  {
   "cell_type": "code",
   "execution_count": 7,
   "metadata": {},
   "outputs": [
    {
     "name": "stdout",
     "output_type": "stream",
     "text": [
      "138/138 [==============================] - 1s 8ms/step\n",
      "[0.25897718509794143, 0.9275362491607666]\n"
     ]
    }
   ],
   "source": [
    "print(model.evaluate(test_data,test_target))"
   ]
  },
  {
   "cell_type": "code",
   "execution_count": 8,
   "metadata": {},
   "outputs": [
    {
     "name": "stdout",
     "output_type": "stream",
     "text": [
      "              precision    recall  f1-score   support\n",
      "\n",
      "           0       0.95      0.93      0.94        83\n",
      "           1       0.89      0.93      0.91        55\n",
      "\n",
      "    accuracy                           0.93       138\n",
      "   macro avg       0.92      0.93      0.92       138\n",
      "weighted avg       0.93      0.93      0.93       138\n",
      "\n"
     ]
    }
   ],
   "source": [
    "from sklearn.metrics import classification_report\n",
    "predict = model.predict(test_data)\n",
    "predict = np.argmax(predict, axis = 1)\n",
    "print(classification_report(test_target.argmax(axis = 1), predict))"
   ]
  },
  {
   "cell_type": "code",
   "execution_count": 9,
   "metadata": {},
   "outputs": [],
   "source": [
    "model.save('mask_detector.h5')"
   ]
  },
  {
   "cell_type": "code",
   "execution_count": null,
   "metadata": {},
   "outputs": [],
   "source": []
  }
 ],
 "metadata": {
  "kernelspec": {
   "display_name": "Python 3",
   "language": "python",
   "name": "python3"
  },
  "language_info": {
   "codemirror_mode": {
    "name": "ipython",
    "version": 3
   },
   "file_extension": ".py",
   "mimetype": "text/x-python",
   "name": "python",
   "nbconvert_exporter": "python",
   "pygments_lexer": "ipython3",
   "version": "3.7.9"
  }
 },
 "nbformat": 4,
 "nbformat_minor": 4
}
