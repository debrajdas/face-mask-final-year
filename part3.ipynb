{
 "cells": [
  {
   "cell_type": "code",
   "execution_count": 1,
   "metadata": {},
   "outputs": [
    {
     "name": "stderr",
     "output_type": "stream",
     "text": [
      "Using TensorFlow backend.\n"
     ]
    }
   ],
   "source": [
    "from keras.models import load_model\n",
    "import cv2\n",
    "import numpy as np"
   ]
  },
  {
   "cell_type": "code",
   "execution_count": 2,
   "metadata": {},
   "outputs": [],
   "source": [
    "model = load_model('mask_detector.h5')"
   ]
  },
  {
   "cell_type": "code",
   "execution_count": 3,
   "metadata": {},
   "outputs": [],
   "source": [
    "face_clsfr = cv2.CascadeClassifier('haarcascade_frontalface_default.xml')"
   ]
  },
  {
   "cell_type": "code",
   "execution_count": 4,
   "metadata": {},
   "outputs": [],
   "source": [
    "def check_image():\n",
    "    source = cv2.VideoCapture(0)\n",
    "    \n",
    "    while(True):\n",
    "        ret,img=source.read()\n",
    "        gray=cv2.cvtColor(img,cv2.COLOR_BGR2GRAY)\n",
    "        faces=face_clsfr.detectMultiScale(gray,1.3,5)  \n",
    "\n",
    "        for (x,y,w,h) in faces:\n",
    "            face_img=gray[y:y+w,x:x+w]\n",
    "            resized=cv2.resize(face_img,(100,100))\n",
    "            normalized=resized/255.0\n",
    "            reshaped=np.reshape(normalized,(1,100,100,1))\n",
    "            result=model.predict(reshaped)\n",
    "\n",
    "            label=np.argmax(result,axis=1)[0]\n",
    "            return label\n"
   ]
  },
  {
   "cell_type": "code",
   "execution_count": null,
   "metadata": {},
   "outputs": [
    {
     "name": "stdout",
     "output_type": "stream",
     "text": [
      "open gate\n",
      "open gate\n",
      "open gate\n",
      "open gate\n",
      "open gate\n",
      "close gate\n",
      "close gate\n",
      "close gate\n",
      "close gate\n",
      "close gate\n",
      "open gate\n",
      "open gate\n",
      "open gate\n"
     ]
    }
   ],
   "source": [
    "proximity = [1, 0, 1, 1, 0, 0, 1, 1, 0, 1, 1, 1, 0, 0, 0, 1, 0, 0, 0, 1, 1, 0, 1, 1, 1, 0, 0, 1, 1, 0, 1, 1]\n",
    "temp_flag = 98.4\n",
    "\n",
    "for p in proximity:\n",
    "    if(p == 1):\n",
    "        if check_image() == 0 and temp_flag<=98.4:\n",
    "            print(\"open gate\")\n",
    "        else:\n",
    "            print(\"close gate\")\n",
    "    else:\n",
    "        continue"
   ]
  },
  {
   "cell_type": "code",
   "execution_count": null,
   "metadata": {},
   "outputs": [],
   "source": []
  },
  {
   "cell_type": "code",
   "execution_count": null,
   "metadata": {},
   "outputs": [],
   "source": []
  }
 ],
 "metadata": {
  "kernelspec": {
   "display_name": "Python 3",
   "language": "python",
   "name": "python3"
  },
  "language_info": {
   "codemirror_mode": {
    "name": "ipython",
    "version": 3
   },
   "file_extension": ".py",
   "mimetype": "text/x-python",
   "name": "python",
   "nbconvert_exporter": "python",
   "pygments_lexer": "ipython3",
   "version": "3.7.9"
  }
 },
 "nbformat": 4,
 "nbformat_minor": 4
}
